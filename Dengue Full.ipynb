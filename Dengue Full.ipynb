{
 "cells": [
  {
   "cell_type": "markdown",
   "metadata": {},
   "source": [
    "# Libraries"
   ]
  },
  {
   "cell_type": "code",
   "execution_count": 680,
   "metadata": {},
   "outputs": [],
   "source": [
    "if(!require(ggplot2)) {\n",
    "  install.packages(\"ggplot2\", repos=\"http://cloud.r-project.org\")\n",
    "  require(ggplot2)\n",
    "}\n",
    "if(!require(gridExtra)) {\n",
    "  install.packages(\"gridExtra\", repos=\"http://cloud.r-project.org\")\n",
    "  require(gridExtra)\n",
    "}\n",
    "if(!require(lubridate)) {\n",
    "  install.packages(\"lubridate\", repos=\"http://cloud.r-project.org\")\n",
    "  require(lubridate)\n",
    "}\n",
    "if(!require(dplyr)) {\n",
    "  install.packages(\"dplyr\", repos = \"https://cloud.r-project.org/\")\n",
    "  require(dplyr)\n",
    "}\n",
    "if(!require(reshape2)) {\n",
    "  install.packages(\"reshape2\", repos=\"http://cloud.r-project.org\")\n",
    "  require(reshape2)\n",
    "}\n",
    "if(!require(tidyr)) {\n",
    "  install.packages(\"tidyr\", repos=\"http://cloud.r-project.org\")\n",
    "  require(tidyr)\n",
    "}\n",
    "if(!require(glmnet)) {\n",
    "  install.packages(\"glmnet\", repos=\"http://cloud.r-project.org\")\n",
    "  require(glmnet)\n",
    "}"
   ]
  },
  {
   "cell_type": "markdown",
   "metadata": {},
   "source": [
    "# Data"
   ]
  },
  {
   "cell_type": "code",
   "execution_count": 84,
   "metadata": {},
   "outputs": [],
   "source": [
    "# Load data \n",
    "dengue_data <- read.csv('Dengue_trends_AM_111.csv')\n",
    "\n",
    "# Fix data\n",
    "dengue_data$Date <- as.POSIXct(dengue_data$Date, format=\"%m/%d/%Y\")\n",
    "dengue_data <- dengue_data[!is.na(dengue_data$Date),]\n",
    "colnames(dengue_data)[2] <- 'Cases'\n",
    "colnames(dengue_data)[3] <- 'Searches'\n",
    "\n",
    "# Training set\n",
    "dengue_train_0406 <- dengue_data[year(dengue_data$Date) < 2007,]"
   ]
  },
  {
   "cell_type": "markdown",
   "metadata": {},
   "source": [
    "## (a) Plot Dengue incidence"
   ]
  },
  {
   "cell_type": "code",
   "execution_count": 85,
   "metadata": {},
   "outputs": [
    {
     "data": {},
     "metadata": {},
     "output_type": "display_data"
    },
    {
     "data": {
      "image/png": "[encoded data removed]",
      "text/plain": [
       "plot without title"
      ]
     },
     "metadata": {},
     "output_type": "display_data"
    }
   ],
   "source": [
    "ggplot(dengue_train_0406, aes(Date, Cases, group=1)) + \n",
    "    geom_line(col=\"red\") + \n",
    "    labs(title=\"Dengue - Training Data 2004-2006\", y=\"CDC Cases\")"
   ]
  },
  {
   "cell_type": "markdown",
   "metadata": {},
   "source": [
    "## (b) Fit linear regression using OLS"
   ]
  },
  {
   "cell_type": "code",
   "execution_count": 86,
   "metadata": {},
   "outputs": [
    {
     "data": {
      "text/plain": [
       "\n",
       "Call:\n",
       "lm(formula = Cases ~ Searches, data = dengue_train_0406)\n",
       "\n",
       "Residuals:\n",
       "    Min      1Q  Median      3Q     Max \n",
       "-2605.4  -644.1   -92.0   529.8  3190.1 \n",
       "\n",
       "Coefficients:\n",
       "            Estimate Std. Error t value Pr(>|t|)    \n",
       "(Intercept)   2155.3      220.6   9.771 2.11e-11 ***\n",
       "Searches      2926.4      373.2   7.842 3.96e-09 ***\n",
       "---\n",
       "Signif. codes:  0 '***' 0.001 '**' 0.01 '*' 0.05 '.' 0.1 ' ' 1\n",
       "\n",
       "Residual standard error: 1269 on 34 degrees of freedom\n",
       "Multiple R-squared:  0.644,\tAdjusted R-squared:  0.6335 \n",
       "F-statistic: 61.49 on 1 and 34 DF,  p-value: 3.961e-09\n"
      ]
     },
     "metadata": {},
     "output_type": "display_data"
    }
   ],
   "source": [
    "fit <- lm(Cases~Searches, dengue_train_0406)\n",
    "summary(fit)"
   ]
  },
  {
   "cell_type": "markdown",
   "metadata": {},
   "source": [
    "## (c) Predict dengue cases from OLS parameters"
   ]
  },
  {
   "cell_type": "code",
   "execution_count": 97,
   "metadata": {},
   "outputs": [],
   "source": [
    "slope <- summary(fit)$coefficients[2]\n",
    "intercept <- summary(fit)$coefficients[1]\n",
    "\n",
    "dengue_pred_0406 <- dengue_train_0406$Searches*slope+intercept\n",
    "dengue_0406 <- dengue_train_0406\n",
    "dengue_0406$Pred <- dengue_pred_0406\n",
    "\n",
    "dengue_0406_long <- melt(dengue_0406, id=c(\"Date\",\"Searches\"))"
   ]
  },
  {
   "cell_type": "code",
   "execution_count": 117,
   "metadata": {},
   "outputs": [
    {
     "data": {},
     "metadata": {},
     "output_type": "display_data"
    },
    {
     "data": {
      "image/png": "[encoded data removed]",
      "text/plain": [
       "plot without title"
      ]
     },
     "metadata": {},
     "output_type": "display_data"
    }
   ],
   "source": [
    "ggplot(dengue_0406_long, aes(Date, value, col=variable)) + \n",
    "    geom_line() + \n",
    "    labs(title=\"Dengue - Prediction 2004-2006\", y=\"Dengue Cases\", col=\"Key\") +\n",
    "    scale_color_hue(labels=c(\"CDC Cases\", \"OLS Predictions\"))"
   ]
  },
  {
   "cell_type": "markdown",
   "metadata": {},
   "source": [
    "## (d) Predict dengue using OLS - with training set"
   ]
  },
  {
   "cell_type": "code",
   "execution_count": 125,
   "metadata": {},
   "outputs": [],
   "source": [
    "dengue_0711 <- dengue_data[year(dengue_data$Date) > 2006,]\n",
    "dengue_pred_0711 <- dengue_0711$Searches*slope+intercept\n",
    "dengue_0711$Pred <- dengue_pred_0711\n",
    "dengue_0711_long <- melt(dengue_0711, id=c(\"Date\",\"Searches\"))"
   ]
  },
  {
   "cell_type": "code",
   "execution_count": 126,
   "metadata": {},
   "outputs": [
    {
     "data": {},
     "metadata": {},
     "output_type": "display_data"
    },
    {
     "data": {
      "image/png": "[encoded data removed]",
      "text/plain": [
       "plot without title"
      ]
     },
     "metadata": {},
     "output_type": "display_data"
    }
   ],
   "source": [
    "ggplot(dengue_0711_long, aes(Date, value, col=variable)) + \n",
    "    geom_line() + \n",
    "    labs(title=\"Dengue - Prediction 2007-2006\", y=\"Dengue Cases\", col=\"Key\") +\n",
    "    scale_color_hue(labels=c(\"CDC Cases\", \"OLS Predictions\"))"
   ]
  },
  {
   "cell_type": "markdown",
   "metadata": {},
   "source": [
    "# Dynamic Training "
   ]
  },
  {
   "cell_type": "code",
   "execution_count": 175,
   "metadata": {},
   "outputs": [],
   "source": [
    "fitOLS_dynamic <- function(xval, yval){\n",
    "    int_list <- list()\n",
    "    slope_list <- list()\n",
    "    for(i in 1:length(xval)){\n",
    "        y <- yval[i:length(yval)]\n",
    "        x <- xval[i:length(xval)]\n",
    "        ols_fit <- lm(y~x)\n",
    "        intercept <- summary(ols_fit)$coefficients[1]        \n",
    "        slope <- summary(ols_fit)$coefficients[2]\n",
    "        int_list <- rbind(int_list, intercept)\n",
    "        slope_list <- rbind(slope_list, slope)\n",
    "    }\n",
    "    params <- data.frame(int_list, slope_list)\n",
    "    return(params)\n",
    "}"
   ]
  },
  {
   "cell_type": "code",
   "execution_count": 272,
   "metadata": {},
   "outputs": [
    {
     "name": "stderr",
     "output_type": "stream",
     "text": [
      "Warning message in data.row.names(row.names, rowsi, i):\n",
      "\"some row.names duplicated: 2,3,4,5,6,7,8,9,10,11,12,13,14,15,16,17,18,19,20,21,22,23,24,25,26,27,28,29,30,31,32,33,34,35,36,37,38,39,40,41,42,43,44,45,46,47,48,49,50,51,52,53,54,55,56,57,58,59,60,61,62,63,64,65,66,67,68,69,70,71,72,73,74,75,76,77,78,79,80,81,82,83,84,85,86,87,88,89,90,91,92,93,94,95,96 --> row.names NOT used\"Warning message in data.row.names(row.names, rowsi, i):\n",
      "\"some row.names duplicated: 2,3,4,5,6,7,8,9,10,11,12,13,14,15,16,17,18,19,20,21,22,23,24,25,26,27,28,29,30,31,32,33,34,35,36,37,38,39,40,41,42,43,44,45,46,47,48,49,50,51,52,53,54,55,56,57,58,59,60,61,62,63,64,65,66,67,68,69,70,71,72,73,74,75,76,77,78,79,80,81,82,83,84,85,86,87,88,89,90,91,92,93,94,95,96 --> row.names NOT used\""
     ]
    }
   ],
   "source": [
    "params <- fitOLS_dynamic(dengue_data$Searches, dengue_data$Cases)\n",
    "intercept <- params$int_list\n",
    "slope <- params$slope_list\n",
    "names(intercept) <- c()\n",
    "names(slope) <- c()\n",
    "dengue_pred <- list()\n",
    "\n",
    "for(i in 1:nrow(dengue_data)){\n",
    "    # First two case counts taken as given\n",
    "    if(i<=2){\n",
    "        dengue_pred <- rbind(dengue_pred, dengue_data$Cases[i])\n",
    "    }\n",
    "    # Use parameters calculated for prior window to predict cases\n",
    "    if (i>2){\n",
    "        pred <- dengue_data$Searches[i]*as.numeric(slope[i-1])+as.numeric(intercept[i-1])\n",
    "        dengue_pred <- rbind(dengue_pred, pred)\n",
    "    }\n",
    "}\n",
    "\n",
    "rownames(dengue_pred) <- c()\n",
    "dengue_data$Pred <- as.numeric(dengue_pred)\n",
    "dengue_long <- melt(dengue_data, id=c(\"Date\",\"Searches\"))"
   ]
  },
  {
   "cell_type": "code",
   "execution_count": 276,
   "metadata": {},
   "outputs": [
    {
     "data": {},
     "metadata": {},
     "output_type": "display_data"
    },
    {
     "data": {
      "image/png": "[encoded data removed]",
      "text/plain": [
       "plot without title"
      ]
     },
     "metadata": {},
     "output_type": "display_data"
    }
   ],
   "source": [
    "ggplot(dengue_long, aes(Date, value, col=variable)) + \n",
    "    geom_line() + \n",
    "    labs(title=\"Dengue - Dynamic Prediction 2004-2011\", y=\"Dengue Cases\", col=\"Key\") +\n",
    "    scale_color_hue(labels=c(\"CDC Cases\", \"Dynamic OLS Predictions\"))"
   ]
  },
  {
   "cell_type": "markdown",
   "metadata": {},
   "source": [
    "## Additional Variables"
   ]
  },
  {
   "cell_type": "code",
   "execution_count": 629,
   "metadata": {},
   "outputs": [],
   "source": [
    "# Load data\n",
    "dengue_multi <- read.csv(\"GT_Mexico.csv\")\n",
    "\n",
    "# Fix data\n",
    "colnames(dengue_multi)[1] <- \"Date\"\n",
    "colnames(dengue_multi)[6] <- \"sintomas.dl.dengue\"\n",
    "dengue_multi$Date <- as.POSIXct(dengue_multi$Date, format=\"%Y-%m-%d\")\n",
    "dengue_multi$Year <- year(dengue_multi$Date)\n",
    "dengue_multi$Month <- month(dengue_multi$Date)\n",
    "\n",
    "# Transform to long\n",
    "dengue_multi_long <- melt(dengue_multi, id=c(\"Date\", \"Month\", \"Year\"))\n",
    "colnames(dengue_multi_long)[4] <- \"Term\"\n",
    "colnames(dengue_multi_long)[5] <- \"Searches\"\n",
    "\n",
    "# Average searches over every given month so as to format according \n",
    "# to available CDC case count data:\n",
    "GB <- dengue_multi_long %>%\n",
    "        group_by(Month=dengue_multi_long$Month, Year=dengue_multi_long$Year, Term=dengue_multi_long$Term) %>%\n",
    "        summarize(Average=mean(Searches))\n",
    "\n",
    "# Format long to wide\n",
    "GB <- GB %>% spread(Term, Average)"
   ]
  },
  {
   "cell_type": "code",
   "execution_count": 630,
   "metadata": {},
   "outputs": [],
   "source": [
    "# Load data\n",
    "dengue_count <- read.csv('CaseCount(Mexico).csv')\n",
    "\n",
    "# Fix data\n",
    "dengue_count <- dengue_count[,2:3]\n",
    "colnames(dengue_count) <- c(\"Date\", \"Cases\")\n",
    "dengue_count$Date <- as.POSIXct(paste('1',dengue_count$Date), format=\"%d %b %Y\")\n",
    "dengue_count$Month <- month(dengue_count$Date)\n",
    "dengue_count$Year <- year(dengue_count$Date)"
   ]
  },
  {
   "cell_type": "code",
   "execution_count": 631,
   "metadata": {},
   "outputs": [],
   "source": [
    "# Join CDC counts with Google search data\n",
    "GB <- GB %>% left_join(. , dengue_count, by=c(\"Month\"=\"Month\", \"Year\"=\"Year\"))\n",
    "\n",
    "# Order by date\n",
    "GB_order <- GB[order(GB$Year, GB$Month),]"
   ]
  },
  {
   "cell_type": "code",
   "execution_count": 632,
   "metadata": {},
   "outputs": [],
   "source": [
    "# Create training and test sets\n",
    "GB_train <- GB_order[1:36,]\n",
    "GB_test <- GB_order[37:148,]"
   ]
  },
  {
   "cell_type": "markdown",
   "metadata": {},
   "source": [
    "## Static"
   ]
  },
  {
   "cell_type": "code",
   "execution_count": 633,
   "metadata": {},
   "outputs": [
    {
     "data": {
      "text/plain": [
       "\n",
       "Call:\n",
       "glm(formula = Cases ~ . - Month - Year - Date, family = gaussian(), \n",
       "    data = GB_train)\n",
       "\n",
       "Deviance Residuals: \n",
       "    Min       1Q   Median       3Q      Max  \n",
       "-2330.2   -550.3   -101.3    411.3   2644.4  \n",
       "\n",
       "Coefficients:\n",
       "                     Estimate Std. Error t value Pr(>|t|)  \n",
       "(Intercept)          -754.737    827.233  -0.912   0.3703  \n",
       "dengue                 26.762    137.836   0.194   0.8476  \n",
       "dengue.dengue.dengue  291.192    138.441   2.103   0.0457 *\n",
       "el.dengue            -165.854     64.100  -2.587   0.0159 *\n",
       "dengue.sintomas       157.069     89.416   1.757   0.0912 .\n",
       "sintomas.dl.dengue    -25.504     32.918  -0.775   0.4457  \n",
       "dengue.hemorragico     31.244     30.079   1.039   0.3089  \n",
       "sintomas.de.dengue    -25.864     24.848  -1.041   0.3079  \n",
       "que.es.dengue         -38.741     26.346  -1.470   0.1539  \n",
       "dengue.clasico        -30.924     18.697  -1.654   0.1106  \n",
       "dengue.mosquito         1.296     23.155   0.056   0.9558  \n",
       "---\n",
       "Signif. codes:  0 '***' 0.001 '**' 0.01 '*' 0.05 '.' 0.1 ' ' 1\n",
       "\n",
       "(Dispersion parameter for gaussian family taken to be 1133630)\n",
       "\n",
       "    Null deviance: 153837813  on 35  degrees of freedom\n",
       "Residual deviance:  28340738  on 25  degrees of freedom\n",
       "AIC: 614.91\n",
       "\n",
       "Number of Fisher Scoring iterations: 2\n"
      ]
     },
     "metadata": {},
     "output_type": "display_data"
    }
   ],
   "source": [
    "# Fit a linear regression \n",
    "fit <- glm(Cases~.-Month-Year-Date, data=GB_train, family=gaussian())\n",
    "summary(fit)"
   ]
  },
  {
   "cell_type": "code",
   "execution_count": 634,
   "metadata": {},
   "outputs": [],
   "source": [
    "# Construct a prediction using the above linear regression\n",
    "GB_test$Pred <- predict(fit, GB_test)"
   ]
  },
  {
   "cell_type": "code",
   "execution_count": 635,
   "metadata": {},
   "outputs": [
    {
     "data": {
      "text/html": [
       "<table>\n",
       "<thead><tr><th scope=col>Date</th><th scope=col>Month</th><th scope=col>Year</th><th scope=col>dengue</th><th scope=col>dengue.dengue.dengue</th><th scope=col>el.dengue</th><th scope=col>dengue.sintomas</th><th scope=col>sintomas.dl.dengue</th><th scope=col>dengue.hemorragico</th><th scope=col>sintomas.de.dengue</th><th scope=col>que.es.dengue</th><th scope=col>dengue.clasico</th><th scope=col>dengue.mosquito</th><th scope=col>variable</th><th scope=col>value</th></tr></thead>\n",
       "<tbody>\n",
       "\t<tr><td>2007-01-01</td><td>1         </td><td>2007      </td><td> 8.25     </td><td> 8.75     </td><td> 5.25     </td><td>4.00      </td><td>6.00      </td><td> 9.00     </td><td> 8.5      </td><td>11.25     </td><td>14.25     </td><td>11.50     </td><td>Cases     </td><td>1716      </td></tr>\n",
       "\t<tr><td>2007-02-01</td><td>2         </td><td>2007      </td><td> 7.00     </td><td> 6.50     </td><td> 6.00     </td><td>3.75      </td><td>7.25      </td><td> 6.25     </td><td> 0.0      </td><td>12.00     </td><td>10.50     </td><td>15.25     </td><td>Cases     </td><td>1263      </td></tr>\n",
       "\t<tr><td>2007-03-01</td><td>3         </td><td>2007      </td><td>13.20     </td><td>14.60     </td><td> 9.60     </td><td>7.00      </td><td>8.60      </td><td>13.00     </td><td> 9.8      </td><td>17.80     </td><td>18.00     </td><td>13.80     </td><td>Cases     </td><td>1238      </td></tr>\n",
       "\t<tr><td>2007-04-01</td><td>4         </td><td>2007      </td><td>12.25     </td><td>13.50     </td><td> 9.25     </td><td>5.75      </td><td>8.75      </td><td>12.25     </td><td>11.0      </td><td>18.50     </td><td> 8.50     </td><td>14.00     </td><td>Cases     </td><td>1206      </td></tr>\n",
       "\t<tr><td>2007-05-01</td><td>5         </td><td>2007      </td><td>14.25     </td><td>16.50     </td><td>12.00     </td><td>5.50      </td><td>7.25      </td><td> 9.00     </td><td> 9.0      </td><td>19.25     </td><td>14.25     </td><td>10.25     </td><td>Cases     </td><td>1861      </td></tr>\n",
       "\t<tr><td>2007-06-01</td><td>6         </td><td>2007      </td><td>17.40     </td><td>17.40     </td><td>14.40     </td><td>5.20      </td><td>8.60      </td><td>11.00     </td><td> 8.4      </td><td>20.40     </td><td> 8.40     </td><td>15.20     </td><td>Cases     </td><td>2550      </td></tr>\n",
       "</tbody>\n",
       "</table>\n"
      ],
      "text/latex": [
       "\\begin{tabular}{r|lllllllllllllll}\n",
       " Date & Month & Year & dengue & dengue.dengue.dengue & el.dengue & dengue.sintomas & sintomas.dl.dengue & dengue.hemorragico & sintomas.de.dengue & que.es.dengue & dengue.clasico & dengue.mosquito & variable & value\\\\\n",
       "\\hline\n",
       "\t 2007-01-01 & 1          & 2007       &  8.25      &  8.75      &  5.25      & 4.00       & 6.00       &  9.00      &  8.5       & 11.25      & 14.25      & 11.50      & Cases      & 1716      \\\\\n",
       "\t 2007-02-01 & 2          & 2007       &  7.00      &  6.50      &  6.00      & 3.75       & 7.25       &  6.25      &  0.0       & 12.00      & 10.50      & 15.25      & Cases      & 1263      \\\\\n",
       "\t 2007-03-01 & 3          & 2007       & 13.20      & 14.60      &  9.60      & 7.00       & 8.60       & 13.00      &  9.8       & 17.80      & 18.00      & 13.80      & Cases      & 1238      \\\\\n",
       "\t 2007-04-01 & 4          & 2007       & 12.25      & 13.50      &  9.25      & 5.75       & 8.75       & 12.25      & 11.0       & 18.50      &  8.50      & 14.00      & Cases      & 1206      \\\\\n",
       "\t 2007-05-01 & 5          & 2007       & 14.25      & 16.50      & 12.00      & 5.50       & 7.25       &  9.00      &  9.0       & 19.25      & 14.25      & 10.25      & Cases      & 1861      \\\\\n",
       "\t 2007-06-01 & 6          & 2007       & 17.40      & 17.40      & 14.40      & 5.20       & 8.60       & 11.00      &  8.4       & 20.40      &  8.40      & 15.20      & Cases      & 2550      \\\\\n",
       "\\end{tabular}\n"
      ],
      "text/markdown": [
       "\n",
       "Date | Month | Year | dengue | dengue.dengue.dengue | el.dengue | dengue.sintomas | sintomas.dl.dengue | dengue.hemorragico | sintomas.de.dengue | que.es.dengue | dengue.clasico | dengue.mosquito | variable | value | \n",
       "|---|---|---|---|---|---|\n",
       "| 2007-01-01 | 1          | 2007       |  8.25      |  8.75      |  5.25      | 4.00       | 6.00       |  9.00      |  8.5       | 11.25      | 14.25      | 11.50      | Cases      | 1716       | \n",
       "| 2007-02-01 | 2          | 2007       |  7.00      |  6.50      |  6.00      | 3.75       | 7.25       |  6.25      |  0.0       | 12.00      | 10.50      | 15.25      | Cases      | 1263       | \n",
       "| 2007-03-01 | 3          | 2007       | 13.20      | 14.60      |  9.60      | 7.00       | 8.60       | 13.00      |  9.8       | 17.80      | 18.00      | 13.80      | Cases      | 1238       | \n",
       "| 2007-04-01 | 4          | 2007       | 12.25      | 13.50      |  9.25      | 5.75       | 8.75       | 12.25      | 11.0       | 18.50      |  8.50      | 14.00      | Cases      | 1206       | \n",
       "| 2007-05-01 | 5          | 2007       | 14.25      | 16.50      | 12.00      | 5.50       | 7.25       |  9.00      |  9.0       | 19.25      | 14.25      | 10.25      | Cases      | 1861       | \n",
       "| 2007-06-01 | 6          | 2007       | 17.40      | 17.40      | 14.40      | 5.20       | 8.60       | 11.00      |  8.4       | 20.40      |  8.40      | 15.20      | Cases      | 2550       | \n",
       "\n",
       "\n"
      ],
      "text/plain": [
       "  Date       Month Year dengue dengue.dengue.dengue el.dengue dengue.sintomas\n",
       "1 2007-01-01 1     2007  8.25   8.75                 5.25     4.00           \n",
       "2 2007-02-01 2     2007  7.00   6.50                 6.00     3.75           \n",
       "3 2007-03-01 3     2007 13.20  14.60                 9.60     7.00           \n",
       "4 2007-04-01 4     2007 12.25  13.50                 9.25     5.75           \n",
       "5 2007-05-01 5     2007 14.25  16.50                12.00     5.50           \n",
       "6 2007-06-01 6     2007 17.40  17.40                14.40     5.20           \n",
       "  sintomas.dl.dengue dengue.hemorragico sintomas.de.dengue que.es.dengue\n",
       "1 6.00                9.00               8.5               11.25        \n",
       "2 7.25                6.25               0.0               12.00        \n",
       "3 8.60               13.00               9.8               17.80        \n",
       "4 8.75               12.25              11.0               18.50        \n",
       "5 7.25                9.00               9.0               19.25        \n",
       "6 8.60               11.00               8.4               20.40        \n",
       "  dengue.clasico dengue.mosquito variable value\n",
       "1 14.25          11.50           Cases    1716 \n",
       "2 10.50          15.25           Cases    1263 \n",
       "3 18.00          13.80           Cases    1238 \n",
       "4  8.50          14.00           Cases    1206 \n",
       "5 14.25          10.25           Cases    1861 \n",
       "6  8.40          15.20           Cases    2550 "
      ]
     },
     "metadata": {},
     "output_type": "display_data"
    }
   ],
   "source": [
    "# Transform to long\n",
    "GB_long <- melt(GB_test, id=c(\"Date\", \"Month\", \"Year\", \"dengue\", \"dengue.dengue.dengue\", \n",
    "                               \"el.dengue\", \"dengue.sintomas\", \"sintomas.dl.dengue\",\n",
    "                               \"dengue.hemorragico\", \"sintomas.de.dengue\", \"que.es.dengue\", \n",
    "                               \"dengue.clasico\", \"dengue.mosquito\"))\n",
    "head(GB_long)"
   ]
  },
  {
   "cell_type": "code",
   "execution_count": 636,
   "metadata": {},
   "outputs": [
    {
     "name": "stderr",
     "output_type": "stream",
     "text": [
      "Warning message:\n",
      "\"Removed 8 rows containing missing values (geom_path).\""
     ]
    },
    {
     "data": {},
     "metadata": {},
     "output_type": "display_data"
    },
    {
     "data": {
      "image/png": "[encoded data removed]",
      "text/plain": [
       "plot without title"
      ]
     },
     "metadata": {},
     "output_type": "display_data"
    }
   ],
   "source": [
    "ggplot(GB_long, aes(Date, value, col=variable)) + \n",
    "    geom_line() + \n",
    "    labs(title=\"Dengue - Static OLS Prediction (Multi) 2007-2016\", y=\"Dengue Cases\", col=\"Key\") +\n",
    "    scale_color_hue(labels=c(\"CDC Cases\", \"Static OLS Predictions\"))"
   ]
  },
  {
   "cell_type": "markdown",
   "metadata": {},
   "source": [
    "## Dynamic"
   ]
  },
  {
   "cell_type": "code",
   "execution_count": 643,
   "metadata": {},
   "outputs": [
    {
     "name": "stderr",
     "output_type": "stream",
     "text": [
      "Warning message in predict.lm(object, newdata, se.fit, scale = 1, type = ifelse(type == :\n",
      "\"prediction from a rank-deficient fit may be misleading\"Warning message in predict.lm(object, newdata, se.fit, scale = 1, type = ifelse(type == :\n",
      "\"prediction from a rank-deficient fit may be misleading\"Warning message in predict.lm(object, newdata, se.fit, scale = 1, type = ifelse(type == :\n",
      "\"prediction from a rank-deficient fit may be misleading\"Warning message in predict.lm(object, newdata, se.fit, scale = 1, type = ifelse(type == :\n",
      "\"prediction from a rank-deficient fit may be misleading\"Warning message in predict.lm(object, newdata, se.fit, scale = 1, type = ifelse(type == :\n",
      "\"prediction from a rank-deficient fit may be misleading\"Warning message in predict.lm(object, newdata, se.fit, scale = 1, type = ifelse(type == :\n",
      "\"prediction from a rank-deficient fit may be misleading\"Warning message in predict.lm(object, newdata, se.fit, scale = 1, type = ifelse(type == :\n",
      "\"prediction from a rank-deficient fit may be misleading\"Warning message in predict.lm(object, newdata, se.fit, scale = 1, type = ifelse(type == :\n",
      "\"prediction from a rank-deficient fit may be misleading\"Warning message in predict.lm(object, newdata, se.fit, scale = 1, type = ifelse(type == :\n",
      "\"prediction from a rank-deficient fit may be misleading\""
     ]
    }
   ],
   "source": [
    "GB_pred <- c()\n",
    "for(i in 1:nrow(GB_order)){\n",
    "    # First two case counts taken as given\n",
    "    if(i<=2){\n",
    "        GB_pred <- rbind(GB_pred, GB_order$Cases[i])\n",
    "    }\n",
    "    # Use parameters calculated for prior window to predict cases\n",
    "    if (i>2){\n",
    "        GB_train <- GB_order[1:i-1,]\n",
    "        fit <- glm(Cases~.-Month-Year-Date, data=GB_train, family=gaussian())\n",
    "        pred <- predict(fit, GB_order[i,])\n",
    "        GB_pred <- rbind(GB_pred, pred)\n",
    "    }\n",
    "}\n",
    "\n",
    "rownames(GB_pred) <- c()"
   ]
  },
  {
   "cell_type": "code",
   "execution_count": 646,
   "metadata": {},
   "outputs": [
    {
     "data": {
      "text/html": [
       "<table>\n",
       "<thead><tr><th scope=col>Date</th><th scope=col>Month</th><th scope=col>Year</th><th scope=col>dengue</th><th scope=col>dengue.dengue.dengue</th><th scope=col>el.dengue</th><th scope=col>dengue.sintomas</th><th scope=col>sintomas.dl.dengue</th><th scope=col>dengue.hemorragico</th><th scope=col>sintomas.de.dengue</th><th scope=col>que.es.dengue</th><th scope=col>dengue.clasico</th><th scope=col>dengue.mosquito</th><th scope=col>variable</th><th scope=col>value</th></tr></thead>\n",
       "<tbody>\n",
       "\t<tr><td>2004-01-01</td><td>1         </td><td>2004      </td><td>16.00     </td><td>13.00     </td><td>24.25     </td><td>11.75     </td><td>34.5      </td><td>37.75     </td><td> 0.00     </td><td>37.00     </td><td> 0.0      </td><td>25.00     </td><td>Cases     </td><td> 98       </td></tr>\n",
       "\t<tr><td>2004-02-01</td><td>2         </td><td>2004      </td><td>12.00     </td><td>12.25     </td><td>15.25     </td><td> 3.50     </td><td>21.0      </td><td>37.00     </td><td>19.00     </td><td>46.00     </td><td> 0.0      </td><td>53.25     </td><td>Cases     </td><td> 41       </td></tr>\n",
       "\t<tr><td>2004-03-01</td><td>3         </td><td>2004      </td><td>16.50     </td><td>14.25     </td><td>20.50     </td><td> 0.00     </td><td> 0.0      </td><td>54.75     </td><td>27.75     </td><td>43.50     </td><td>30.0      </td><td>50.75     </td><td>Cases     </td><td> 53       </td></tr>\n",
       "\t<tr><td>2004-04-01</td><td>4         </td><td>2004      </td><td>13.75     </td><td>12.50     </td><td>14.25     </td><td> 0.00     </td><td> 0.0      </td><td>50.00     </td><td> 0.00     </td><td>42.00     </td><td> 0.0      </td><td>69.50     </td><td>Cases     </td><td> 92       </td></tr>\n",
       "\t<tr><td>2004-05-01</td><td>5         </td><td>2004      </td><td>17.00     </td><td>20.60     </td><td>23.60     </td><td> 5.20     </td><td> 9.8      </td><td>33.60     </td><td>13.80     </td><td>46.40     </td><td>19.0      </td><td>39.80     </td><td>Cases     </td><td>100       </td></tr>\n",
       "\t<tr><td>2004-06-01</td><td>6         </td><td>2004      </td><td>20.75     </td><td>19.50     </td><td>21.75     </td><td> 6.50     </td><td> 0.0      </td><td>32.25     </td><td> 0.00     </td><td>53.75     </td><td>49.5      </td><td>56.00     </td><td>Cases     </td><td>240       </td></tr>\n",
       "</tbody>\n",
       "</table>\n"
      ],
      "text/latex": [
       "\\begin{tabular}{r|lllllllllllllll}\n",
       " Date & Month & Year & dengue & dengue.dengue.dengue & el.dengue & dengue.sintomas & sintomas.dl.dengue & dengue.hemorragico & sintomas.de.dengue & que.es.dengue & dengue.clasico & dengue.mosquito & variable & value\\\\\n",
       "\\hline\n",
       "\t 2004-01-01 & 1          & 2004       & 16.00      & 13.00      & 24.25      & 11.75      & 34.5       & 37.75      &  0.00      & 37.00      &  0.0       & 25.00      & Cases      &  98       \\\\\n",
       "\t 2004-02-01 & 2          & 2004       & 12.00      & 12.25      & 15.25      &  3.50      & 21.0       & 37.00      & 19.00      & 46.00      &  0.0       & 53.25      & Cases      &  41       \\\\\n",
       "\t 2004-03-01 & 3          & 2004       & 16.50      & 14.25      & 20.50      &  0.00      &  0.0       & 54.75      & 27.75      & 43.50      & 30.0       & 50.75      & Cases      &  53       \\\\\n",
       "\t 2004-04-01 & 4          & 2004       & 13.75      & 12.50      & 14.25      &  0.00      &  0.0       & 50.00      &  0.00      & 42.00      &  0.0       & 69.50      & Cases      &  92       \\\\\n",
       "\t 2004-05-01 & 5          & 2004       & 17.00      & 20.60      & 23.60      &  5.20      &  9.8       & 33.60      & 13.80      & 46.40      & 19.0       & 39.80      & Cases      & 100       \\\\\n",
       "\t 2004-06-01 & 6          & 2004       & 20.75      & 19.50      & 21.75      &  6.50      &  0.0       & 32.25      &  0.00      & 53.75      & 49.5       & 56.00      & Cases      & 240       \\\\\n",
       "\\end{tabular}\n"
      ],
      "text/markdown": [
       "\n",
       "Date | Month | Year | dengue | dengue.dengue.dengue | el.dengue | dengue.sintomas | sintomas.dl.dengue | dengue.hemorragico | sintomas.de.dengue | que.es.dengue | dengue.clasico | dengue.mosquito | variable | value | \n",
       "|---|---|---|---|---|---|\n",
       "| 2004-01-01 | 1          | 2004       | 16.00      | 13.00      | 24.25      | 11.75      | 34.5       | 37.75      |  0.00      | 37.00      |  0.0       | 25.00      | Cases      |  98        | \n",
       "| 2004-02-01 | 2          | 2004       | 12.00      | 12.25      | 15.25      |  3.50      | 21.0       | 37.00      | 19.00      | 46.00      |  0.0       | 53.25      | Cases      |  41        | \n",
       "| 2004-03-01 | 3          | 2004       | 16.50      | 14.25      | 20.50      |  0.00      |  0.0       | 54.75      | 27.75      | 43.50      | 30.0       | 50.75      | Cases      |  53        | \n",
       "| 2004-04-01 | 4          | 2004       | 13.75      | 12.50      | 14.25      |  0.00      |  0.0       | 50.00      |  0.00      | 42.00      |  0.0       | 69.50      | Cases      |  92        | \n",
       "| 2004-05-01 | 5          | 2004       | 17.00      | 20.60      | 23.60      |  5.20      |  9.8       | 33.60      | 13.80      | 46.40      | 19.0       | 39.80      | Cases      | 100        | \n",
       "| 2004-06-01 | 6          | 2004       | 20.75      | 19.50      | 21.75      |  6.50      |  0.0       | 32.25      |  0.00      | 53.75      | 49.5       | 56.00      | Cases      | 240        | \n",
       "\n",
       "\n"
      ],
      "text/plain": [
       "  Date       Month Year dengue dengue.dengue.dengue el.dengue dengue.sintomas\n",
       "1 2004-01-01 1     2004 16.00  13.00                24.25     11.75          \n",
       "2 2004-02-01 2     2004 12.00  12.25                15.25      3.50          \n",
       "3 2004-03-01 3     2004 16.50  14.25                20.50      0.00          \n",
       "4 2004-04-01 4     2004 13.75  12.50                14.25      0.00          \n",
       "5 2004-05-01 5     2004 17.00  20.60                23.60      5.20          \n",
       "6 2004-06-01 6     2004 20.75  19.50                21.75      6.50          \n",
       "  sintomas.dl.dengue dengue.hemorragico sintomas.de.dengue que.es.dengue\n",
       "1 34.5               37.75               0.00              37.00        \n",
       "2 21.0               37.00              19.00              46.00        \n",
       "3  0.0               54.75              27.75              43.50        \n",
       "4  0.0               50.00               0.00              42.00        \n",
       "5  9.8               33.60              13.80              46.40        \n",
       "6  0.0               32.25               0.00              53.75        \n",
       "  dengue.clasico dengue.mosquito variable value\n",
       "1  0.0           25.00           Cases     98  \n",
       "2  0.0           53.25           Cases     41  \n",
       "3 30.0           50.75           Cases     53  \n",
       "4  0.0           69.50           Cases     92  \n",
       "5 19.0           39.80           Cases    100  \n",
       "6 49.5           56.00           Cases    240  "
      ]
     },
     "metadata": {},
     "output_type": "display_data"
    }
   ],
   "source": [
    "GB_order$Dynamic_Pred <- as.numeric(GB_pred)\n",
    "GB_long <- melt(GB_order, id=c(\"Date\", \"Month\", \"Year\", \"dengue\", \"dengue.dengue.dengue\", \n",
    "                               \"el.dengue\", \"dengue.sintomas\", \"sintomas.dl.dengue\",\n",
    "                               \"dengue.hemorragico\", \"sintomas.de.dengue\", \"que.es.dengue\", \n",
    "                               \"dengue.clasico\", \"dengue.mosquito\"))\n",
    "head(GB_long)"
   ]
  },
  {
   "cell_type": "code",
   "execution_count": 647,
   "metadata": {},
   "outputs": [
    {
     "name": "stderr",
     "output_type": "stream",
     "text": [
      "Warning message:\n",
      "\"Removed 8 rows containing missing values (geom_path).\""
     ]
    },
    {
     "data": {},
     "metadata": {},
     "output_type": "display_data"
    },
    {
     "data": {
      "image/png": "[encoded data removed]",
      "text/plain": [
       "plot without title"
      ]
     },
     "metadata": {},
     "output_type": "display_data"
    }
   ],
   "source": [
    "ggplot(GB_long[GB_long$variable!='Pred',], aes(Date, value, col=variable)) + \n",
    "    geom_line() + \n",
    "    labs(title=\"Dengue - Dynamic OLS Prediction (Multi) 2007-2016\", y=\"Dengue Cases\", col=\"Key\") +\n",
    "    scale_color_hue(labels=c(\"CDC Cases\", \"Dynamic OLS Predictions\"))"
   ]
  },
  {
   "cell_type": "markdown",
   "metadata": {},
   "source": [
    "## Seasonality"
   ]
  },
  {
   "cell_type": "code",
   "execution_count": 672,
   "metadata": {},
   "outputs": [],
   "source": [
    "# Add column with number of dengue cases in that particular month\n",
    "# two years prior\n",
    "GB_seasonality <- GB_order[,1:14]\n",
    "GB_seasonality$Case_2yr <- 0\n",
    "for(i in 1:nrow(GB_seasonality)){\n",
    "    if(i>24){\n",
    "        GB_seasonality$Case_2yr[i] <- GB_seasonality$Cases[i-24]\n",
    "    }\n",
    "    else{\n",
    "        GB_seasonality$Case_2yr[i] <- GB_seasonality$Cases[i]\n",
    "    }\n",
    "}"
   ]
  },
  {
   "cell_type": "code",
   "execution_count": 674,
   "metadata": {},
   "outputs": [],
   "source": [
    "# Add columns with dengue cases per each month in the prior year\n",
    "# compared to the month being evaluated\n",
    "\n",
    "# 1 month\n",
    "GB_seasonality$Case_1mo <- 0\n",
    "for(i in 1:nrow(GB_seasonality)){\n",
    "    if(i>12){\n",
    "        GB_seasonality$Case_1mo[i] <- GB_seasonality$Cases[i-1]\n",
    "    }\n",
    "    else{\n",
    "        GB_seasonality$Case_1mo[i] <- GB_seasonality$Cases[i]\n",
    "    }\n",
    "}\n",
    "\n",
    "# 2 months\n",
    "GB_seasonality$Case_2mo <- 0\n",
    "for(i in 1:nrow(GB_seasonality)){\n",
    "    if(i>12){\n",
    "        GB_seasonality$Case_2mo[i] <- GB_seasonality$Cases[i-2]\n",
    "    }\n",
    "    else{\n",
    "        GB_seasonality$Case_2mo[i] <- GB_seasonality$Cases[i]\n",
    "    }\n",
    "}\n",
    "\n",
    "# 3 months\n",
    "GB_seasonality$Case_3mo <- 0\n",
    "for(i in 1:nrow(GB_seasonality)){\n",
    "    if(i>12){\n",
    "        GB_seasonality$Case_3mo[i] <- GB_seasonality$Cases[i-3]\n",
    "    }\n",
    "    else{\n",
    "        GB_seasonality$Case_3mo[i] <- GB_seasonality$Cases[i]\n",
    "    }\n",
    "}\n",
    "\n",
    "# 4 months\n",
    "GB_seasonality$Case_4mo <- 0\n",
    "for(i in 1:nrow(GB_seasonality)){\n",
    "    if(i>12){\n",
    "        GB_seasonality$Case_4mo[i] <- GB_seasonality$Cases[i-4]\n",
    "    }\n",
    "    else{\n",
    "        GB_seasonality$Case_4mo[i] <- GB_seasonality$Cases[i]\n",
    "    }\n",
    "}\n",
    "\n",
    "# 5 months\n",
    "GB_seasonality$Case_5mo <- 0\n",
    "for(i in 1:nrow(GB_seasonality)){\n",
    "    if(i>12){\n",
    "        GB_seasonality$Case_5mo[i] <- GB_seasonality$Cases[i-5]\n",
    "    }\n",
    "    else{\n",
    "        GB_seasonality$Case_5mo[i] <- GB_seasonality$Cases[i]\n",
    "    }\n",
    "}\n",
    "\n",
    "# 6 months\n",
    "GB_seasonality$Case_6mo <- 0\n",
    "for(i in 1:nrow(GB_seasonality)){\n",
    "    if(i>12){\n",
    "        GB_seasonality$Case_6mo[i] <- GB_seasonality$Cases[i-6]\n",
    "    }\n",
    "    else{\n",
    "        GB_seasonality$Case_6mo[i] <- GB_seasonality$Cases[i]\n",
    "    }\n",
    "}\n",
    "\n",
    "# 7 months\n",
    "GB_seasonality$Case_7mo <- 0\n",
    "for(i in 1:nrow(GB_seasonality)){\n",
    "    if(i>12){\n",
    "        GB_seasonality$Case_7mo[i] <- GB_seasonality$Cases[i-7]\n",
    "    }\n",
    "    else{\n",
    "        GB_seasonality$Case_7mo[i] <- GB_seasonality$Cases[i]\n",
    "    }\n",
    "}\n",
    "\n",
    "# 8 months\n",
    "GB_seasonality$Case_8mo <- 0\n",
    "for(i in 1:nrow(GB_seasonality)){\n",
    "    if(i>12){\n",
    "        GB_seasonality$Case_8mo[i] <- GB_seasonality$Cases[i-8]\n",
    "    }\n",
    "    else{\n",
    "        GB_seasonality$Case_8mo[i] <- GB_seasonality$Cases[i]\n",
    "    }\n",
    "}\n",
    "\n",
    "# 9 months\n",
    "GB_seasonality$Case_9mo <- 0\n",
    "for(i in 1:nrow(GB_seasonality)){\n",
    "    if(i>12){\n",
    "        GB_seasonality$Case_9mo[i] <- GB_seasonality$Cases[i-9]\n",
    "    }\n",
    "    else{\n",
    "        GB_seasonality$Case_9mo[i] <- GB_seasonality$Cases[i]\n",
    "    }\n",
    "}\n",
    "\n",
    "# 10 months\n",
    "GB_seasonality$Case_10mo <- 0\n",
    "for(i in 1:nrow(GB_seasonality)){\n",
    "    if(i>12){\n",
    "        GB_seasonality$Case_10mo[i] <- GB_seasonality$Cases[i-10]\n",
    "    }\n",
    "    else{\n",
    "        GB_seasonality$Case_10mo[i] <- GB_seasonality$Cases[i]\n",
    "    }\n",
    "}\n",
    "\n",
    "# 11 months\n",
    "GB_seasonality$Case_11mo <- 0\n",
    "for(i in 1:nrow(GB_seasonality)){\n",
    "    if(i>12){\n",
    "        GB_seasonality$Case_11mo[i] <- GB_seasonality$Cases[i-11]\n",
    "    }\n",
    "    else{\n",
    "        GB_seasonality$Case_11mo[i] <- GB_seasonality$Cases[i]\n",
    "    }\n",
    "}\n",
    "\n",
    "# 12 months\n",
    "GB_seasonality$Case_12mo <- 0\n",
    "for(i in 1:nrow(GB_seasonality)){\n",
    "    if(i>12){\n",
    "        GB_seasonality$Case_12mo[i] <- GB_seasonality$Cases[i-12]\n",
    "    }\n",
    "    else{\n",
    "        GB_seasonality$Case_12mo[i] <- GB_seasonality$Cases[i]\n",
    "    }\n",
    "}"
   ]
  },
  {
   "cell_type": "markdown",
   "metadata": {},
   "source": [
    "## Static"
   ]
  },
  {
   "cell_type": "markdown",
   "metadata": {},
   "source": [
    "### Static Lasso (ARGO)"
   ]
  },
  {
   "cell_type": "code",
   "execution_count": 1244,
   "metadata": {},
   "outputs": [],
   "source": [
    "# Create training and test sets\n",
    "GB_train <- GB_seasonality[1:36,]\n",
    "GB_test <- GB_seasonality[37:148,]\n",
    "#GB_test[is.na(GB_test$Cases),]$Cases <- 0"
   ]
  },
  {
   "cell_type": "code",
   "execution_count": 1245,
   "metadata": {},
   "outputs": [],
   "source": [
    "# Train model on data from first 36 months\n",
    "set.seed(1)\n",
    "folds <- 3\n",
    "x_train <- model.matrix(Cases~.,GB_train)[,c(\"dengue\", \"dengue.dengue.dengue\", \"el.dengue\", \"dengue.sintomas\", \"sintomas.dl.dengue\", \n",
    "            \"dengue.hemorragico\", \"sintomas.de.dengue\", \"que.es.dengue\", \"dengue.clasico\", \"dengue.mosquito\", \n",
    "            \"Case_2yr\", \"Case_1mo\", \"Case_2mo\", \"Case_3mo\",  \"Case_11mo\", \"Case_12mo\")]\n",
    "y_train <- GB_train$Cases\n",
    "lasso_fit <- cv.glmnet(x_train, y_train, alpha=1, nfolds=folds)\n",
    "lambda <- lasso_fit$lambda.min\n",
    "\n",
    "# Test trained model on data from after first 36 months\n",
    "x_test <- as.matrix(GB_test[,c(\"dengue\", \"dengue.dengue.dengue\", \"el.dengue\", \"dengue.sintomas\", \"sintomas.dl.dengue\", \n",
    "            \"dengue.hemorragico\", \"sintomas.de.dengue\", \"que.es.dengue\", \"dengue.clasico\", \"dengue.mosquito\", \n",
    "            \"Case_2yr\", \"Case_1mo\", \"Case_2mo\", \"Case_3mo\",  \"Case_11mo\", \"Case_12mo\")])\n",
    "pred <- predict(lasso_fit$glmnet.fit, s=lambda, newx=x_test)"
   ]
  },
  {
   "cell_type": "code",
   "execution_count": 1246,
   "metadata": {},
   "outputs": [],
   "source": [
    "GB_seasonality$Predicted_12U24_3yr_lasso_static <- 0\n",
    "for(i in 1:nrow(GB_seasonality)){\n",
    "    if(i<=36){\n",
    "        GB_seasonality$Predicted_12U24_3yr_lasso_static[i] <- GB_seasonality$Cases[i]\n",
    "    }\n",
    "    if(i>36){\n",
    "        GB_seasonality$Predicted_12U24_3yr_lasso_static[i] <- pred[i-36]\n",
    "    }\n",
    "}"
   ]
  },
  {
   "cell_type": "markdown",
   "metadata": {},
   "source": [
    "### Static OLS"
   ]
  },
  {
   "cell_type": "code",
   "execution_count": 924,
   "metadata": {},
   "outputs": [],
   "source": [
    "# Create training and test sets\n",
    "GB_train <- GB_seasonality[1:24,]\n",
    "GB_test <- GB_seasonality[25:148,]\n",
    "GB_test[is.na(GB_test$Cases),]$Cases <- 0\n",
    "GB_test[is.na(GB_test$Case_1mo),]$Case_1mo <- 0\n",
    "GB_test[is.na(GB_test$Case_2mo),]$Case_2mo <- 0\n",
    "GB_test[is.na(GB_test$Case_3mo),]$Case_3mo <- 0"
   ]
  },
  {
   "cell_type": "code",
   "execution_count": 925,
   "metadata": {},
   "outputs": [],
   "source": [
    "# Train model on data from first 24 months\n",
    "set.seed(1)\n",
    "x_train <- model.matrix(Cases~.,GB_train)[,c(\"dengue\", \"dengue.dengue.dengue\", \"el.dengue\", \"dengue.sintomas\", \"sintomas.dl.dengue\", \n",
    "            \"dengue.hemorragico\", \"sintomas.de.dengue\", \"que.es.dengue\", \"dengue.clasico\", \"dengue.mosquito\", \n",
    "            \"Case_2yr\", \"Case_1mo\", \"Case_2mo\", \"Case_3mo\",  \"Case_11mo\", \"Case_12mo\")]\n",
    "y_train <- GB_train$Cases\n",
    "OLS_fit <- glm(Cases~., data=GB_train[,c(\"dengue\", \"dengue.dengue.dengue\", \"el.dengue\", \"dengue.sintomas\", \"sintomas.dl.dengue\", \n",
    "            \"dengue.hemorragico\", \"sintomas.de.dengue\", \"que.es.dengue\", \"dengue.clasico\", \"dengue.mosquito\", \"Cases\",\n",
    "            \"Case_2yr\", \"Case_1mo\", \"Case_2mo\", \"Case_3mo\",  \"Case_11mo\", \"Case_12mo\")], family=gaussian())\n",
    "\n",
    "# Test trained model on data from after first 24 months\n",
    "static_pred <- predict(OLS_fit, GB_test)"
   ]
  },
  {
   "cell_type": "code",
   "execution_count": 926,
   "metadata": {},
   "outputs": [],
   "source": [
    "GB_seasonality$static_seasonal_ols <- 0\n",
    "for(i in 1:nrow(GB_seasonality)){\n",
    "    if(i<=24){\n",
    "        GB_seasonality$static_seasonal_ols[i] <- GB_seasonality$Cases[i]\n",
    "    }\n",
    "    if(i>24){\n",
    "        GB_seasonality$static_seasonal_ols[i] <- static_pred[i-24]\n",
    "    }\n",
    "}"
   ]
  },
  {
   "cell_type": "code",
   "execution_count": 1248,
   "metadata": {},
   "outputs": [],
   "source": [
    "GB_seasonality2 <- GB_seasonality[,c(\"Date\", \"Month\", \"Year\", \"dengue\", \"dengue.dengue.dengue\", \"el.dengue\", \n",
    "                                     \"dengue.sintomas\", \"sintomas.dl.dengue\", \"dengue.hemorragico\", \n",
    "                                     \"sintomas.de.dengue\", \"que.es.dengue\", \"dengue.clasico\", \"dengue.mosquito\", \n",
    "                                     \"Cases\", \"Predicted_12U24_3yr_lasso_static\", \"static_seasonal_ols\")]"
   ]
  },
  {
   "cell_type": "code",
   "execution_count": 1249,
   "metadata": {},
   "outputs": [
    {
     "data": {
      "text/html": [
       "<ol class=list-inline>\n",
       "\t<li>Cases</li>\n",
       "\t<li>Predicted_12U24_3yr_lasso_static</li>\n",
       "\t<li>static_seasonal_ols</li>\n",
       "</ol>\n"
      ],
      "text/latex": [
       "\\begin{enumerate*}\n",
       "\\item Cases\n",
       "\\item Predicted\\_12U24\\_3yr\\_lasso\\_static\n",
       "\\item static\\_seasonal\\_ols\n",
       "\\end{enumerate*}\n"
      ],
      "text/markdown": [
       "1. Cases\n",
       "2. Predicted_12U24_3yr_lasso_static\n",
       "3. static_seasonal_ols\n",
       "\n",
       "\n"
      ],
      "text/plain": [
       "[1] Cases                            Predicted_12U24_3yr_lasso_static\n",
       "[3] static_seasonal_ols             \n",
       "Levels: Cases Predicted_12U24_3yr_lasso_static static_seasonal_ols"
      ]
     },
     "metadata": {},
     "output_type": "display_data"
    }
   ],
   "source": [
    "GB_long <- melt(GB_seasonality2, id=c(\"Date\", \"Month\", \"Year\", \"dengue\", \"dengue.dengue.dengue\", \n",
    "                               \"el.dengue\", \"dengue.sintomas\", \"sintomas.dl.dengue\",\n",
    "                               \"dengue.hemorragico\", \"sintomas.de.dengue\", \"que.es.dengue\", \n",
    "                               \"dengue.clasico\", \"dengue.mosquito\"))\n",
    "unique(GB_long$variable)"
   ]
  },
  {
   "cell_type": "code",
   "execution_count": 1250,
   "metadata": {},
   "outputs": [
    {
     "data": {},
     "metadata": {},
     "output_type": "display_data"
    },
    {
     "data": {
      "image/png": "[encoded data removed]",
      "text/plain": [
       "plot without title"
      ]
     },
     "metadata": {},
     "output_type": "display_data"
    }
   ],
   "source": [
    "ggplot(GB_long, aes(Date, value, col=variable)) + geom_line() + \n",
    "    labs(title=\"Dengue Static + Seasonality\", y=\"Dengue Cases\", col=\"Key\") +\n",
    "    scale_color_hue(labels=c(\"CDC Cases\", \"Lasso Static + Seasonal\", \"OLS Static + Seasonal\"))"
   ]
  },
  {
   "cell_type": "markdown",
   "metadata": {},
   "source": [
    "## Dynamic"
   ]
  },
  {
   "cell_type": "code",
   "execution_count": 1258,
   "metadata": {},
   "outputs": [
    {
     "name": "stderr",
     "output_type": "stream",
     "text": [
      "Warning message in predict.lm(object, newdata, se.fit, scale = 1, type = ifelse(type == :\n",
      "\"prediction from a rank-deficient fit may be misleading\"Warning message in predict.lm(object, newdata, se.fit, scale = 1, type = ifelse(type == :\n",
      "\"prediction from a rank-deficient fit may be misleading\"Warning message in predict.lm(object, newdata, se.fit, scale = 1, type = ifelse(type == :\n",
      "\"prediction from a rank-deficient fit may be misleading\"Warning message in predict.lm(object, newdata, se.fit, scale = 1, type = ifelse(type == :\n",
      "\"prediction from a rank-deficient fit may be misleading\"Warning message in predict.lm(object, newdata, se.fit, scale = 1, type = ifelse(type == :\n",
      "\"prediction from a rank-deficient fit may be misleading\"Warning message in predict.lm(object, newdata, se.fit, scale = 1, type = ifelse(type == :\n",
      "\"prediction from a rank-deficient fit may be misleading\"Warning message in predict.lm(object, newdata, se.fit, scale = 1, type = ifelse(type == :\n",
      "\"prediction from a rank-deficient fit may be misleading\"Warning message in predict.lm(object, newdata, se.fit, scale = 1, type = ifelse(type == :\n",
      "\"prediction from a rank-deficient fit may be misleading\"Warning message in predict.lm(object, newdata, se.fit, scale = 1, type = ifelse(type == :\n",
      "\"prediction from a rank-deficient fit may be misleading\"Warning message in predict.lm(object, newdata, se.fit, scale = 1, type = ifelse(type == :\n",
      "\"prediction from a rank-deficient fit may be misleading\"Warning message in predict.lm(object, newdata, se.fit, scale = 1, type = ifelse(type == :\n",
      "\"prediction from a rank-deficient fit may be misleading\"Warning message in predict.lm(object, newdata, se.fit, scale = 1, type = ifelse(type == :\n",
      "\"prediction from a rank-deficient fit may be misleading\"Warning message in predict.lm(object, newdata, se.fit, scale = 1, type = ifelse(type == :\n",
      "\"prediction from a rank-deficient fit may be misleading\"Warning message in predict.lm(object, newdata, se.fit, scale = 1, type = ifelse(type == :\n",
      "\"prediction from a rank-deficient fit may be misleading\"Warning message in predict.lm(object, newdata, se.fit, scale = 1, type = ifelse(type == :\n",
      "\"prediction from a rank-deficient fit may be misleading\"Warning message in predict.lm(object, newdata, se.fit, scale = 1, type = ifelse(type == :\n",
      "\"prediction from a rank-deficient fit may be misleading\"Warning message in predict.lm(object, newdata, se.fit, scale = 1, type = ifelse(type == :\n",
      "\"prediction from a rank-deficient fit may be misleading\"Warning message in predict.lm(object, newdata, se.fit, scale = 1, type = ifelse(type == :\n",
      "\"prediction from a rank-deficient fit may be misleading\"Warning message in predict.lm(object, newdata, se.fit, scale = 1, type = ifelse(type == :\n",
      "\"prediction from a rank-deficient fit may be misleading\"Warning message in predict.lm(object, newdata, se.fit, scale = 1, type = ifelse(type == :\n",
      "\"prediction from a rank-deficient fit may be misleading\"Warning message in predict.lm(object, newdata, se.fit, scale = 1, type = ifelse(type == :\n",
      "\"prediction from a rank-deficient fit may be misleading\"Warning message in predict.lm(object, newdata, se.fit, scale = 1, type = ifelse(type == :\n",
      "\"prediction from a rank-deficient fit may be misleading\""
     ]
    }
   ],
   "source": [
    "# Dynamic using the data from the entire year prior and from the\n",
    "# particular month 2 years prior OLS (~ARGO):\n",
    "GB_seasonality$Predicted_12U24 <- 0\n",
    "#GB_seasonality[is.na(GB_seasonality$Cases),]$Cases <- 0\n",
    "#GB_seasonality[is.na(GB_seasonality$Case_1mo),]$Case_1mo <- 0\n",
    "#GB_seasonality[is.na(GB_seasonality$Case_2mo),]$Case_2mo <- 0\n",
    "#GB_seasonality[is.na(GB_seasonality$Case_3mo),]$Case_3mo <- 0\n",
    "\n",
    "for(i in 1:nrow(GB_seasonality)){\n",
    "    if(i<=2){\n",
    "        GB_seasonality$Predicted_12U24[i] <- GB_seasonality$Cases[i]\n",
    "    }\n",
    "    if(i>2){\n",
    "        # Create training and test sets\n",
    "        GB_train <- GB_seasonality[1:i-1,c(\"dengue\", \"dengue.dengue.dengue\", \"el.dengue\", \"dengue.sintomas\", \"sintomas.dl.dengue\", \n",
    "            \"dengue.hemorragico\", \"sintomas.de.dengue\", \"que.es.dengue\", \"dengue.clasico\", \"dengue.mosquito\", \"Cases\",\n",
    "            \"Case_2yr\", \"Case_1mo\", \"Case_2mo\", \"Case_3mo\", \"Case_4mo\", \"Case_5mo\", \"Case_6mo\", \"Case_7mo\", \"Case_8mo\", \n",
    "            \"Case_9mo\", \"Case_10mo\", \"Case_11mo\", \"Case_12mo\")]\n",
    "        GB_test <- GB_seasonality[i,c(\"dengue\", \"dengue.dengue.dengue\", \"el.dengue\", \"dengue.sintomas\", \"sintomas.dl.dengue\", \n",
    "            \"dengue.hemorragico\", \"sintomas.de.dengue\", \"que.es.dengue\", \"dengue.clasico\", \"dengue.mosquito\", \"Cases\",\n",
    "            \"Case_2yr\", \"Case_1mo\", \"Case_2mo\", \"Case_3mo\", \"Case_4mo\", \"Case_5mo\", \"Case_6mo\", \"Case_7mo\", \"Case_8mo\", \n",
    "            \"Case_9mo\", \"Case_10mo\", \"Case_11mo\", \"Case_12mo\")]\n",
    "        # Train model\n",
    "        dynamic_fit <- glm(Cases~., data=GB_train)\n",
    "        # Test model\n",
    "        dynamic_pred <- predict(dynamic_fit, GB_test)                            \n",
    "        GB_seasonality$Predicted_12U24[i] <- dynamic_pred\n",
    "    }\n",
    "}"
   ]
  },
  {
   "cell_type": "code",
   "execution_count": 1259,
   "metadata": {},
   "outputs": [],
   "source": [
    "GB_seasonality2 <- GB_seasonality[,c(\"Date\", \"Month\", \"Year\", \"dengue\", \"dengue.dengue.dengue\", \"el.dengue\", \n",
    "                                     \"dengue.sintomas\", \"sintomas.dl.dengue\", \"dengue.hemorragico\", \n",
    "                                     \"sintomas.de.dengue\", \"que.es.dengue\", \"dengue.clasico\", \"dengue.mosquito\", \n",
    "                                     \"Cases\", \"Predicted_12U24\")]"
   ]
  },
  {
   "cell_type": "code",
   "execution_count": 1260,
   "metadata": {},
   "outputs": [
    {
     "data": {
      "text/html": [
       "<ol class=list-inline>\n",
       "\t<li>Cases</li>\n",
       "\t<li>Predicted_12U24</li>\n",
       "</ol>\n"
      ],
      "text/latex": [
       "\\begin{enumerate*}\n",
       "\\item Cases\n",
       "\\item Predicted\\_12U24\n",
       "\\end{enumerate*}\n"
      ],
      "text/markdown": [
       "1. Cases\n",
       "2. Predicted_12U24\n",
       "\n",
       "\n"
      ],
      "text/plain": [
       "[1] Cases           Predicted_12U24\n",
       "Levels: Cases Predicted_12U24"
      ]
     },
     "metadata": {},
     "output_type": "display_data"
    }
   ],
   "source": [
    "GB_long <- melt(GB_seasonality2, id=c(\"Date\", \"Month\", \"Year\", \"dengue\", \"dengue.dengue.dengue\", \n",
    "                               \"el.dengue\", \"dengue.sintomas\", \"sintomas.dl.dengue\",\n",
    "                               \"dengue.hemorragico\", \"sintomas.de.dengue\", \"que.es.dengue\", \n",
    "                               \"dengue.clasico\", \"dengue.mosquito\"))\n",
    "unique(GB_long$variable)"
   ]
  },
  {
   "cell_type": "code",
   "execution_count": 1261,
   "metadata": {},
   "outputs": [
    {
     "data": {},
     "metadata": {},
     "output_type": "display_data"
    },
    {
     "data": {
      "image/png": "[encoded data removed]",
      "text/plain": [
       "plot without title"
      ]
     },
     "metadata": {},
     "output_type": "display_data"
    }
   ],
   "source": [
    "ggplot(GB_long, aes(Date, value, col=variable)) + geom_line() + \n",
    "    labs(title=\"Dengue Dynamic OLS + Seasonality\", y=\"Dengue Cases\", col=\"Key\") +\n",
    "    scale_color_hue(labels=c(\"CDC Cases\", \"OLS Dynamic + Seasonal\"))"
   ]
  },
  {
   "cell_type": "markdown",
   "metadata": {},
   "source": [
    "The attempt to emulate the ARGO model using ols instead of lasso with a 2 yr training period was not succesful (as is evidnet in the graph that follows) since the number of available variables is equal to the number of trianing points which results in a non-unique solution.\n",
    "\n"
   ]
  },
  {
   "cell_type": "code",
   "execution_count": 1060,
   "metadata": {},
   "outputs": [],
   "source": [
    "# 2 year training time using the data from the entire year\n",
    "# prior and from the particular month 2 years prior - ARGO\n",
    "GB_seasonality$Predicted_12U24_2yr <- 0\n",
    "for(i in 1:nrow(GB_seasonality)){\n",
    "    if(i<=24){\n",
    "        GB_seasonality$Predicted_12U24_2yr[i] <- GB_seasonality$Cases[i]\n",
    "    }\n",
    "    if(i>24){\n",
    "        # Create training and test sets\n",
    "        GB_train <- GB_seasonality[(i-24):(i-1),c(\"dengue\", \"dengue.dengue.dengue\", \"el.dengue\", \"dengue.sintomas\", \"sintomas.dl.dengue\", \n",
    "            \"dengue.hemorragico\", \"sintomas.de.dengue\", \"que.es.dengue\", \"dengue.clasico\", \"dengue.mosquito\", \"Cases\",\n",
    "            \"Case_2yr\", \"Case_1mo\", \"Case_2mo\", \"Case_3mo\", \"Case_4mo\", \"Case_5mo\", \"Case_6mo\", \"Case_7mo\", \"Case_8mo\", \n",
    "            \"Case_9mo\", \"Case_10mo\", \"Case_11mo\", \"Case_12mo\")]\n",
    "        GB_test <- GB_seasonality[i,c(\"dengue\", \"dengue.dengue.dengue\", \"el.dengue\", \"dengue.sintomas\", \"sintomas.dl.dengue\", \n",
    "            \"dengue.hemorragico\", \"sintomas.de.dengue\", \"que.es.dengue\", \"dengue.clasico\", \"dengue.mosquito\", \"Cases\",\n",
    "            \"Case_2yr\", \"Case_1mo\", \"Case_2mo\", \"Case_3mo\", \"Case_4mo\", \"Case_5mo\", \"Case_6mo\", \"Case_7mo\", \"Case_8mo\", \n",
    "            \"Case_9mo\", \"Case_10mo\", \"Case_11mo\", \"Case_12mo\")]\n",
    "        # Train model\n",
    "        dynamic_fit <- glm(Cases~., data=GB_train)\n",
    "        # Test model\n",
    "        dynamic_pred <- predict(dynamic_fit, GB_test)                            \n",
    "        GB_seasonality$Predicted_12U24_2yr[i] <- dynamic_pred\n",
    "    }\n",
    "}"
   ]
  },
  {
   "cell_type": "code",
   "execution_count": 1063,
   "metadata": {},
   "outputs": [],
   "source": [
    "GB_seasonality2 <- GB_seasonality[,c(\"Date\", \"Month\", \"Year\", \"dengue\", \"dengue.dengue.dengue\", \"el.dengue\", \n",
    "                                     \"dengue.sintomas\", \"sintomas.dl.dengue\", \"dengue.hemorragico\", \n",
    "                                     \"sintomas.de.dengue\", \"que.es.dengue\", \"dengue.clasico\", \"dengue.mosquito\", \n",
    "                                     \"Cases\", \"Predicted_12U24_2yr\")]"
   ]
  },
  {
   "cell_type": "code",
   "execution_count": 1065,
   "metadata": {},
   "outputs": [
    {
     "name": "stderr",
     "output_type": "stream",
     "text": [
      "Warning message:\n",
      "\"Removed 8 rows containing missing values (geom_path).\""
     ]
    },
    {
     "data": {},
     "metadata": {},
     "output_type": "display_data"
    },
    {
     "data": {
      "image/png": "[encoded data removed]",
      "text/plain": [
       "plot without title"
      ]
     },
     "metadata": {},
     "output_type": "display_data"
    }
   ],
   "source": [
    "GB_long <- melt(GB_seasonality2, id=c(\"Date\", \"Month\", \"Year\", \"dengue\", \"dengue.dengue.dengue\", \n",
    "                               \"el.dengue\", \"dengue.sintomas\", \"sintomas.dl.dengue\",\n",
    "                               \"dengue.hemorragico\", \"sintomas.de.dengue\", \"que.es.dengue\", \n",
    "                               \"dengue.clasico\", \"dengue.mosquito\"))\n",
    "ggplot(GB_long, aes(Date, value, col=variable)) + geom_line() + \n",
    "    labs(title=\"Dengue Dynamic OLS + Seasonality\", y=\"Dengue Cases\", col=\"Key\") +\n",
    "    scale_color_hue(labels=c(\"CDC Cases\", \"OLS Dynamic + Seasonal (w/ 2yr training)\"))"
   ]
  },
  {
   "cell_type": "code",
   "execution_count": null,
   "metadata": {},
   "outputs": [],
   "source": [
    "#GB_seasonality[145:148,]$Date <- as.POSIXct(paste(GB_seasonality[145:148,]$Month, \"1\", GB_seasonality[145:148,]$Year), format=\"%m %d %Y\")"
   ]
  },
  {
   "cell_type": "code",
   "execution_count": 1251,
   "metadata": {},
   "outputs": [],
   "source": [
    "# ARGO (dynamic, 3 yr training window, multi + seasonal)\n",
    "folds = 3\n",
    "GB_seasonality$Predicted_12U24_3yrlasso <- 0\n",
    "for(i in 1:nrow(GB_seasonality)){\n",
    "    if(i<=36){\n",
    "        GB_seasonality$Predicted_12U24_3yrlasso[i] <- GB_seasonality$Cases[i]\n",
    "    }\n",
    "    if(i>36){\n",
    "        # Create training and test sets\n",
    "        GB_train <- GB_seasonality[(i-36):(i-1),]\n",
    "        GB_test <- GB_seasonality[i,]\n",
    "        # Train model on data from first 36 months\n",
    "        set.seed(1)\n",
    "        folds <- 3\n",
    "        x_train <- model.matrix(Cases~.,GB_train)[,c(\"dengue\", \"dengue.dengue.dengue\", \"el.dengue\", \"dengue.sintomas\", \"sintomas.dl.dengue\", \n",
    "                    \"dengue.hemorragico\", \"sintomas.de.dengue\", \"que.es.dengue\", \"dengue.clasico\", \"dengue.mosquito\", \n",
    "                    \"Case_2yr\", \"Case_1mo\", \"Case_2mo\", \"Case_3mo\",  \"Case_11mo\", \"Case_12mo\")]\n",
    "        y_train <- GB_train$Cases\n",
    "        lasso_fit <- cv.glmnet(x_train, y_train, alpha=1, nfolds=folds)\n",
    "        lambda <- lasso_fit$lambda.min\n",
    "        # Test trained model on data from after first 36 months\n",
    "        x_test <- as.matrix(GB_test[,c(\"dengue\", \"dengue.dengue.dengue\", \"el.dengue\", \"dengue.sintomas\", \"sintomas.dl.dengue\", \n",
    "                    \"dengue.hemorragico\", \"sintomas.de.dengue\", \"que.es.dengue\", \"dengue.clasico\", \"dengue.mosquito\", \n",
    "                    \"Case_2yr\", \"Case_1mo\", \"Case_2mo\", \"Case_3mo\",  \"Case_11mo\", \"Case_12mo\")])\n",
    "        dynamic_lasso_pred <- predict(lasso_fit$glmnet.fit, s=lambda, newx=x_test)\n",
    "        GB_seasonality$Predicted_12U24_3yrlasso[i] <- dynamic_lasso_pred\n",
    "    }\n",
    "}"
   ]
  },
  {
   "cell_type": "code",
   "execution_count": 1257,
   "metadata": {},
   "outputs": [
    {
     "data": {},
     "metadata": {},
     "output_type": "display_data"
    },
    {
     "data": {
      "image/png": "[encoded data removed]",
      "text/plain": [
       "plot without title"
      ]
     },
     "metadata": {},
     "output_type": "display_data"
    }
   ],
   "source": [
    "GB_seasonality2 <- GB_seasonality[,c(\"Date\", \"Month\", \"Year\", \"dengue\", \"dengue.dengue.dengue\", \"el.dengue\", \n",
    "                                     \"dengue.sintomas\", \"sintomas.dl.dengue\", \"dengue.hemorragico\", \n",
    "                                     \"sintomas.de.dengue\", \"que.es.dengue\", \"dengue.clasico\", \"dengue.mosquito\", \n",
    "                                     \"Cases\", \"Predicted_12U24\", \"Predicted_12U24_3yrlasso\")]\n",
    "GB_long <- melt(GB_seasonality2, id=c(\"Date\", \"Month\", \"Year\", \"dengue\", \"dengue.dengue.dengue\", \n",
    "                               \"el.dengue\", \"dengue.sintomas\", \"sintomas.dl.dengue\",\n",
    "                               \"dengue.hemorragico\", \"sintomas.de.dengue\", \"que.es.dengue\", \n",
    "                               \"dengue.clasico\", \"dengue.mosquito\"))\n",
    "ggplot(GB_long, aes(Date, value, col=variable)) + geom_line() + \n",
    "    labs(title=\"Dengue Dynamic + Seasonality\", y=\"Dengue Cases\", col=\"Key\") +    \n",
    "    scale_color_hue(labels=c(\"CDC Cases\", \"OLS Dynamic + Seasonal\", \"Lasso Dynamic Seasonal\"))"
   ]
  }
 ],
 "metadata": {
  "kernelspec": {
   "display_name": "R",
   "language": "R",
   "name": "ir"
  },
  "language_info": {
   "codemirror_mode": "r",
   "file_extension": ".r",
   "mimetype": "text/x-r-source",
   "name": "R",
   "pygments_lexer": "r",
   "version": "3.4.1"
  }
 },
 "nbformat": 4,
 "nbformat_minor": 2
}
